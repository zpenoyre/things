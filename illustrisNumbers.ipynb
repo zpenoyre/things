{
 "cells": [
  {
   "cell_type": "code",
   "execution_count": 1,
   "metadata": {
    "collapsed": true
   },
   "outputs": [],
   "source": [
    "import numpy as np\n",
    "import matplotlib.pyplot as plt\n",
    "import illustrisAPI.iApi as iApi\n",
    "iApi.headers['api-key']='cc4ff6392e79c9e08c158e5ae5493718'"
   ]
  },
  {
   "cell_type": "code",
   "execution_count": 2,
   "metadata": {
    "collapsed": true
   },
   "outputs": [],
   "source": [
    "iApi.setUnits('Zephyr')"
   ]
  },
  {
   "cell_type": "code",
   "execution_count": 3,
   "metadata": {
    "collapsed": true
   },
   "outputs": [],
   "source": [
    "masses=iApi.getSubhaloField('SubhaloMassType',simulation='Illustris-1')"
   ]
  },
  {
   "cell_type": "code",
   "execution_count": 4,
   "metadata": {
    "collapsed": true
   },
   "outputs": [],
   "source": [
    "simInfo=iApi.getSimData(simulation='Illustris-1')\n",
    "boxSize=1000*simInfo['BoxSize']/simInfo['h']\n",
    "volume=boxSize**3"
   ]
  },
  {
   "cell_type": "code",
   "execution_count": 5,
   "metadata": {
    "collapsed": true
   },
   "outputs": [],
   "source": [
    "snapInfo=iApi.getSnapData(simulation='Illustris-1')"
   ]
  },
  {
   "cell_type": "code",
   "execution_count": 6,
   "metadata": {},
   "outputs": [
    {
     "name": "stdout",
     "output_type": "stream",
     "text": [
      "5.01919504760861e-10\n"
     ]
    }
   ],
   "source": [
    "mStar=1e6*snapInfo['NumPartStar']\n",
    "rhoStar=mStar/volume\n",
    "print(rhoStar)"
   ]
  },
  {
   "cell_type": "code",
   "execution_count": 7,
   "metadata": {
    "collapsed": true
   },
   "outputs": [],
   "source": [
    "mGas=masses[:,0]\n",
    "mDm=masses[:,1]\n",
    "mStar=masses[:,4]\n",
    "mBh=masses[:,5]"
   ]
  },
  {
   "cell_type": "code",
   "execution_count": 8,
   "metadata": {
    "collapsed": true
   },
   "outputs": [],
   "source": [
    "nBins=48\n",
    "ms=np.zeros(nBins)\n",
    "dGas=np.zeros(nBins)\n",
    "dStar=np.zeros(nBins)\n",
    "dBh=np.zeros(nBins)\n",
    "dDm=np.zeros(nBins)\n",
    "for i in range(nBins):\n",
    "    mLow=10**(6+0.25*i)\n",
    "    mHigh=10**(6+0.25*(i+1))\n",
    "    dm=mHigh-mLow\n",
    "    ms[i]=10**(6+0.25*(i+0.5))\n",
    "    gas=np.argwhere((mGas>mLow) & (mGas<mHigh))\n",
    "    stars=np.argwhere((mStar>mLow) & (mStar<mHigh))\n",
    "    bhs=np.argwhere((mBh>mLow) & (mBh<mHigh))\n",
    "    dms=np.argwhere((mDm>mLow) & (mDm<mHigh))\n",
    "    dGas[i]=np.size(gas)/(volume*dm)\n",
    "    dStar[i]=np.size(stars)/(volume*dm)\n",
    "    dBh[i]=np.size(bhs)/(volume*dm)\n",
    "    dDm[i]=np.size(dms)/(volume*dm)"
   ]
  },
  {
   "cell_type": "code",
   "execution_count": 33,
   "metadata": {
    "collapsed": true
   },
   "outputs": [],
   "source": [
    "#smbhData=np.genfromtxt('data/SMBHs.txt')\n",
    "#smbhData[:,1]=smbhData[:,1]*1e-9"
   ]
  },
  {
   "cell_type": "code",
   "execution_count": 35,
   "metadata": {
    "collapsed": true
   },
   "outputs": [],
   "source": [
    "#np.savetxt('data/SMBHs.txt',smbhData,fmt='%1.3e \\t',header='M (M_s) \\t dN/dMdV (M_s^-1 pc^-3)')"
   ]
  },
  {
   "cell_type": "code",
   "execution_count": 15,
   "metadata": {
    "collapsed": true
   },
   "outputs": [],
   "source": [
    "gasData=np.vstack((ms[np.argmax(dGas):-5],dGas[np.argmax(dGas):-5])).T\n",
    "gasFooter='/Illustris (gas)/#D62839/-/'\n",
    "starData=np.vstack((ms[np.argmax(dStar):],dStar[np.argmax(dStar):])).T\n",
    "starFooter='/Illustris (stars)/#FE9920/--/'\n",
    "dmData=np.vstack((ms[np.argmax(dDm):],dDm[np.argmax(dDm):])).T\n",
    "dmFooter='/Illustris (DM)/#011638/-/'\n",
    "bhData=np.vstack((ms[np.argmax(dBh):],dBh[np.argmax(dBh):])).T #almost identical to individual SMBHs...\n",
    "bhFooter='/Illustris (BH total)/#55286F/--/'\n",
    "np.savetxt('data/galaxiesGas.txt',gasData,fmt='%1.3e \\t',header='M (M_s) \\t dN/dMdV (M_s^-1 pc^-3)',footer=gasFooter)\n",
    "np.savetxt('data/galaxiesStars.txt',starData,fmt='%1.3e \\t',header='M (M_s) \\t dN/dMdV (M_s^-1 pc^-3)',footer=starFooter)\n",
    "np.savetxt('data/galaxiesBHs.txt',bhData,fmt='%1.3e \\t',header='M (M_s) \\t dN/dMdV (M_s^-1 pc^-3)',footer=bhFooter)\n",
    "np.savetxt('data/galaxiesDM.txt',dmData,fmt='%1.3e \\t',header='M (M_s) \\t dN/dMdV (M_s^-1 pc^-3)',footer=dmFooter)"
   ]
  },
  {
   "cell_type": "code",
   "execution_count": 12,
   "metadata": {
    "scrolled": true
   },
   "outputs": [
    {
     "data": {
      "image/png": "[encoded data removed]",
      "text/plain": [
       "<matplotlib.figure.Figure at 0x11dcf68d0>"
      ]
     },
     "metadata": {},
     "output_type": "display_data"
    }
   ],
   "source": [
    "plot=plt.gca()\n",
    "plot.plot(ms,dStar,c='r')\n",
    "plot.plot(ms,dBh,c='orange')\n",
    "plot.plot(ms,dDm,c='g')\n",
    "plot.plot(ms,dGas,c='b')\n",
    "plt.plot(ms[:-5],dGas[:-5])\n",
    "plot.set_xscale('log')\n",
    "plot.set_yscale('log')\n",
    "plot.set_ylim(1e-40,1e-20)\n",
    "plt.show()"
   ]
  },
  {
   "cell_type": "code",
   "execution_count": null,
   "metadata": {
    "collapsed": true
   },
   "outputs": [],
   "source": []
  }
 ],
 "metadata": {
  "kernelspec": {
   "display_name": "Python [default]",
   "language": "python",
   "name": "python3"
  },
  "language_info": {
   "codemirror_mode": {
    "name": "ipython",
    "version": 3
   },
   "file_extension": ".py",
   "mimetype": "text/x-python",
   "name": "python",
   "nbconvert_exporter": "python",
   "pygments_lexer": "ipython3",
   "version": "3.5.4"
  }
 },
 "nbformat": 4,
 "nbformat_minor": 2
}
